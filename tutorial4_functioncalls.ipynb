{
  "cells": [
    {
      "cell_type": "markdown",
      "metadata": {
        "id": "HNXP8HXHdE5d"
      },
      "source": [
        "Function Calls:\n",
        "\n",
        "1. Create chatbots that answer questions by **calling external tools** (e.g., like ChatGPT Plugins)\n",
        "\n",
        "2. Convert **natural language** into API calls or database queries\n",
        "\n",
        "3. Extract **structured** data from text"
      ]
    },
    {
      "cell_type": "markdown",
      "metadata": {
        "id": "S6UPS19hcvba"
      },
      "source": [
        "### Example 1- Send Email"
      ]
    },
    {
      "cell_type": "markdown",
      "metadata": {
        "id": "hiVzsiW-cqgk"
      },
      "source": [
        "Email Anya to see if she wants to get coffee next Friday\n",
        "\n",
        "`send_email(to: string, body: string)`"
      ]
    },
    {
      "cell_type": "markdown",
      "metadata": {
        "id": "sp4m_utDc0r5"
      },
      "source": [
        "## Example 2 - Weather API"
      ]
    },
    {
      "cell_type": "markdown",
      "metadata": {
        "id": "6R7nIExxc5Ky"
      },
      "source": [
        " What's the weather like in Bengaluru?\n",
        "\n",
        " `get_current_weather(location: string, unit: 'celsius' | 'fahrenheit')`\n"
      ]
    },
    {
      "cell_type": "markdown",
      "metadata": {
        "id": "rIdFpSWOdr2K"
      },
      "source": [
        "### Example 3 - Natural Language to Function/SQL\n",
        "\n",
        "Who are my top ten customers this month?\n",
        "\n",
        "`get_customers_by_revenue(start_date: string, end_date: string, limit: int)`\n",
        "\n",
        "How many orders did Acme, Inc. place last month?\n",
        "\n",
        "`sql_query(query: string)`"
      ]
    },
    {
      "cell_type": "markdown",
      "metadata": {
        "id": "JZN2vsYvdUBe"
      },
      "source": [
        "## Example 4 - Extract Structured Data\n",
        "\n",
        "Extract details of the names mentioned in this Wikipedia article .....\n",
        "\n",
        "`extract_people_data(people: [{name: string, birthday: string, location: string}])`"
      ]
    },
    {
      "cell_type": "markdown",
      "metadata": {
        "id": "I337lzWferAP"
      },
      "source": [
        "# Code Example"
      ]
    },
    {
      "cell_type": "code",
      "execution_count": 3,
      "metadata": {
        "colab": {
          "base_uri": "https://localhost:8080/"
        },
        "id": "EF7BsGNkerq2",
        "outputId": "cbc76b05-e583-432e-b754-68f3e4a861a1"
      },
      "outputs": [],
      "source": [
        "!pip install openai termcolor -q"
      ]
    },
    {
      "cell_type": "code",
      "execution_count": 4,
      "metadata": {
        "id": "VbJhAqkTe5x8"
      },
      "outputs": [],
      "source": [
        "import openai\n",
        "from tenacity import retry, wait_random_exponential, stop_after_attempt\n",
        "from termcolor import colored\n",
        "import requests"
      ]
    },
    {
      "cell_type": "code",
      "execution_count": 5,
      "metadata": {
        "id": "1qn9VSBMexul"
      },
      "outputs": [],
      "source": [
        "GPT_MODEL = \"gpt-3.5-turbo-0613\"\n"
      ]
    },
    {
      "cell_type": "code",
      "execution_count": 6,
      "metadata": {
        "id": "3oWGyH3xe9ic"
      },
      "outputs": [],
      "source": [
        "from apikey import OPENAIKEY\n",
        "openai.api_key = OPENAIKEY"
      ]
    },
    {
      "cell_type": "code",
      "execution_count": null,
      "metadata": {
        "id": "kE4D8RDUmbmX"
      },
      "outputs": [],
      "source": [
        "@retry(wait=wait_random_exponential(min=1, max=40), stop=stop_after_attempt(3))\n",
        "def chat_completion_request(messages, functions=None, model=GPT_MODEL):\n",
        "    headers = {\n",
        "        \"Content-Type\": \"application/json\",\n",
        "        \"Authorization\": \"Bearer \" + openai.api_key,\n",
        "    }\n",
        "    json_data = {\"model\": model, \"messages\": messages}\n",
        "    if functions is not None:\n",
        "        json_data.update({\"functions\": functions})\n",
        "    try:\n",
        "        response = requests.post(\n",
        "            \"https://api.openai.com/v1/chat/completions\",\n",
        "            headers=headers,\n",
        "            json=json_data,\n",
        "        )\n",
        "        return response\n",
        "    except Exception as e:\n",
        "        print(\"Unable to generate ChatCompletion response\")\n",
        "        print(f\"Exception: {e}\")\n",
        "        return e"
      ]
    },
    {
      "cell_type": "code",
      "execution_count": null,
      "metadata": {
        "id": "jL_Np5RhfSEU"
      },
      "outputs": [],
      "source": [
        "class Conversation:\n",
        "    def __init__(self):\n",
        "        self.conversation_history = []\n",
        "\n",
        "    def add_message(self, role, content):\n",
        "        message = {\"role\": role, \"content\": content}\n",
        "        self.conversation_history.append(message)\n",
        "\n",
        "    def display_conversation(self, detailed=False):\n",
        "        role_to_color = {\n",
        "            \"system\": \"red\",\n",
        "            \"user\": \"green\",\n",
        "            \"assistant\": \"blue\",\n",
        "            \"function\": \"magenta\",\n",
        "        }\n",
        "        for message in self.conversation_history:\n",
        "            print(\n",
        "                colored(\n",
        "                    f\"{message['role']}: {message['content']}\\n\\n\",\n",
        "                    role_to_color[message[\"role\"]],\n",
        "                )\n",
        "            )"
      ]
    },
    {
      "cell_type": "markdown",
      "metadata": {
        "id": "u5x0Oo2xfn66"
      },
      "source": [
        "Function Specification"
      ]
    },
    {
      "cell_type": "code",
      "execution_count": null,
      "metadata": {
        "id": "6FeYE01MflrY"
      },
      "outputs": [],
      "source": [
        "functions = [\n",
        "    {\n",
        "        \"name\": \"get_current_weather\",\n",
        "        \"description\": \"Get the current weather\",\n",
        "        \"parameters\": {\n",
        "            \"type\": \"object\",\n",
        "            \"properties\": {\n",
        "                \"location\": {\n",
        "                    \"type\": \"string\",\n",
        "                    \"description\": \"The city and state, e.g. San Francisco, CA\",\n",
        "                },\n",
        "                \"format\": {\n",
        "                    \"type\": \"string\",\n",
        "                    \"enum\": [\"celsius\", \"fahrenheit\"],\n",
        "                    \"description\": \"The temperature unit to use. Infer this from the users location.\",\n",
        "                },\n",
        "            },\n",
        "            \"required\": [\"location\", \"format\"],\n",
        "        },\n",
        "    }\n",
        "]"
      ]
    },
    {
      "cell_type": "code",
      "execution_count": null,
      "metadata": {
        "id": "lcdT3lcgfqHa"
      },
      "outputs": [],
      "source": [
        "conversation = Conversation()\n"
      ]
    },
    {
      "cell_type": "code",
      "execution_count": null,
      "metadata": {
        "id": "uPPtZqA2funf"
      },
      "outputs": [],
      "source": [
        "conversation.add_message(\"user\", \"what is the weather like today in Bangalore\")\n"
      ]
    },
    {
      "cell_type": "code",
      "execution_count": null,
      "metadata": {
        "colab": {
          "base_uri": "https://localhost:8080/"
        },
        "id": "qKShIVOwfu4E",
        "outputId": "4ffc175f-eb45-4ff7-bfb2-aa1855b86e14"
      },
      "outputs": [
        {
          "name": "stdout",
          "output_type": "stream",
          "text": [
            "<Response [200]>\n"
          ]
        }
      ],
      "source": [
        "#without function call\n",
        "chat_response = chat_completion_request(\n",
        "    conversation.conversation_history,\n",
        "    functions = None\n",
        ")\n",
        "print(chat_response)"
      ]
    },
    {
      "cell_type": "code",
      "execution_count": null,
      "metadata": {
        "colab": {
          "base_uri": "https://localhost:8080/",
          "height": 122
        },
        "id": "4jXfb_cYfvkz",
        "outputId": "1a26cf05-504a-488a-e1ed-6f4754089e14"
      },
      "outputs": [
        {
          "data": {
            "application/vnd.google.colaboratory.intrinsic+json": {
              "type": "string"
            },
            "text/plain": [
              "'{\\n  \"id\": \"chatcmpl-7RZo5FDtr0W7lGKrkHOQKrohCGrbe\",\\n  \"object\": \"chat.completion\",\\n  \"created\": 1686806853,\\n  \"model\": \"gpt-3.5-turbo-0613\",\\n  \"choices\": [\\n    {\\n      \"index\": 0,\\n      \"message\": {\\n        \"role\": \"assistant\",\\n        \"content\": \"I\\'m sorry, but as an AI language model, I don\\'t have real-time data. I suggest checking a reliable weather website or using a weather application to get the current weather information for Bangalore.\"\\n      },\\n      \"finish_reason\": \"stop\"\\n    }\\n  ],\\n  \"usage\": {\\n    \"prompt_tokens\": 25,\\n    \"completion_tokens\": 40,\\n    \"total_tokens\": 65\\n  }\\n}\\n'"
            ]
          },
          "execution_count": 37,
          "metadata": {},
          "output_type": "execute_result"
        }
      ],
      "source": [
        "chat_response.text"
      ]
    },
    {
      "cell_type": "code",
      "execution_count": null,
      "metadata": {
        "colab": {
          "base_uri": "https://localhost:8080/"
        },
        "id": "q5SWRnsTg1GN",
        "outputId": "d39dde7b-2573-4df4-d791-d075e8028a1a"
      },
      "outputs": [
        {
          "data": {
            "text/plain": [
              "{'id': 'chatcmpl-7RZpmBBt8fE6XktaWHx7Xz2rWsDtG',\n",
              " 'object': 'chat.completion',\n",
              " 'created': 1686806958,\n",
              " 'model': 'gpt-3.5-turbo-0613',\n",
              " 'choices': [{'index': 0,\n",
              "   'message': {'role': 'assistant',\n",
              "    'content': None,\n",
              "    'function_call': {'name': 'get_current_weather',\n",
              "     'arguments': '{\\n  \"location\": \"Bangalore\",\\n  \"format\": \"celsius\"\\n}'}},\n",
              "   'finish_reason': 'function_call'}],\n",
              " 'usage': {'prompt_tokens': 102, 'completion_tokens': 25, 'total_tokens': 127}}"
            ]
          },
          "execution_count": 43,
          "metadata": {},
          "output_type": "execute_result"
        }
      ],
      "source": [
        "#with function call\n",
        "chat_response = chat_completion_request(\n",
        "    conversation.conversation_history,\n",
        "    functions = functions\n",
        ")\n",
        "\n",
        "chat_response.json()"
      ]
    },
    {
      "cell_type": "code",
      "execution_count": null,
      "metadata": {
        "colab": {
          "base_uri": "https://localhost:8080/"
        },
        "id": "DyDGlwIfhbD9",
        "outputId": "9011f61e-827c-4614-e992-feeb4993caa2"
      },
      "outputs": [
        {
          "data": {
            "text/plain": [
              "{'id': 'chatcmpl-7RZo8UUNSRZx1rkiLqAxRsut2zlOH',\n",
              " 'object': 'chat.completion',\n",
              " 'created': 1686806856,\n",
              " 'model': 'gpt-3.5-turbo-0613',\n",
              " 'choices': [{'index': 0,\n",
              "   'message': {'role': 'assistant',\n",
              "    'content': None,\n",
              "    'function_call': {'name': 'get_current_weather',\n",
              "     'arguments': '{\\n\"location\": \"Bangalore\",\\n\"format\": \"celsius\"\\n}'}},\n",
              "   'finish_reason': 'function_call'}],\n",
              " 'usage': {'prompt_tokens': 102, 'completion_tokens': 23, 'total_tokens': 125}}"
            ]
          },
          "execution_count": 42,
          "metadata": {},
          "output_type": "execute_result"
        }
      ],
      "source": []
    },
    {
      "cell_type": "code",
      "execution_count": null,
      "metadata": {
        "colab": {
          "base_uri": "https://localhost:8080/"
        },
        "id": "c-fRFisshrdh",
        "outputId": "d7f9711a-825d-4f94-bc87-8be34a96cdc7"
      },
      "outputs": [
        {
          "data": {
            "text/plain": [
              "{'location': 'Bangalore', 'format': 'celsius'}"
            ]
          },
          "execution_count": 70,
          "metadata": {},
          "output_type": "execute_result"
        }
      ],
      "source": [
        "import json\n",
        "json.loads(chat_response.json()['choices'][0]['message']['function_call']['arguments'])"
      ]
    },
    {
      "cell_type": "code",
      "execution_count": null,
      "metadata": {
        "id": "-g8_UpZDn4td"
      },
      "outputs": [],
      "source": [
        "conversation.add_message(\"user\", \"what is the weather like today in Berlin\")\n"
      ]
    },
    {
      "cell_type": "code",
      "execution_count": null,
      "metadata": {
        "colab": {
          "base_uri": "https://localhost:8080/"
        },
        "id": "C4SmOHFAn6xH",
        "outputId": "7202ebca-b2a2-4492-de9f-b46c6f6067c9"
      },
      "outputs": [
        {
          "data": {
            "text/plain": [
              "{'id': 'chatcmpl-7RaGE9SXdoe7AfbK5ApBYmxXktjIs',\n",
              " 'object': 'chat.completion',\n",
              " 'created': 1686808598,\n",
              " 'model': 'gpt-3.5-turbo-0613',\n",
              " 'choices': [{'index': 0,\n",
              "   'message': {'role': 'assistant',\n",
              "    'content': None,\n",
              "    'function_call': {'name': 'get_current_weather',\n",
              "     'arguments': '{\\n  \"location\": \"Berlin\",\\n  \"format\": \"celsius\"\\n}'}},\n",
              "   'finish_reason': 'function_call'}],\n",
              " 'usage': {'prompt_tokens': 140, 'completion_tokens': 24, 'total_tokens': 164}}"
            ]
          },
          "execution_count": 79,
          "metadata": {},
          "output_type": "execute_result"
        }
      ],
      "source": [
        "#with function call\n",
        "chat_response = chat_completion_request(\n",
        "    conversation.conversation_history,\n",
        "    functions = functions\n",
        ")\n",
        "\n",
        "chat_response.json()"
      ]
    },
    {
      "cell_type": "code",
      "execution_count": null,
      "metadata": {
        "colab": {
          "base_uri": "https://localhost:8080/"
        },
        "id": "aHW02ygtn8s0",
        "outputId": "2ba5c70f-7d30-4e19-ea93-c7922f6995dc"
      },
      "outputs": [
        {
          "data": {
            "text/plain": [
              "{'location': 'Berlin', 'format': 'celsius'}"
            ]
          },
          "execution_count": 80,
          "metadata": {},
          "output_type": "execute_result"
        }
      ],
      "source": [
        "import json\n",
        "json.loads(chat_response.json()['choices'][0]['message']['function_call']['arguments'])"
      ]
    },
    {
      "cell_type": "code",
      "execution_count": null,
      "metadata": {
        "id": "zS_sEWm3oAUE"
      },
      "outputs": [],
      "source": []
    }
  ],
  "metadata": {
    "colab": {
      "provenance": []
    },
    "kernelspec": {
      "display_name": "Python 3",
      "name": "python3"
    },
    "language_info": {
      "codemirror_mode": {
        "name": "ipython",
        "version": 3
      },
      "file_extension": ".py",
      "mimetype": "text/x-python",
      "name": "python",
      "nbconvert_exporter": "python",
      "pygments_lexer": "ipython3",
      "version": "3.11.4"
    }
  },
  "nbformat": 4,
  "nbformat_minor": 0
}
