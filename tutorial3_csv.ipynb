{
  "cells": [
    {
      "cell_type": "markdown",
      "metadata": {
        "id": "r0alwu2qZzGU"
      },
      "source": [
        "Code Credit - https://twitter.com/pwang_szn/status/1642104548109201410/photo/1\n"
      ]
    },
    {
      "cell_type": "code",
      "execution_count": null,
      "metadata": {
        "colab": {
          "base_uri": "https://localhost:8080/"
        },
        "id": "JGXR0-MsaE1T",
        "outputId": "5d097565-7a4b-4f2b-a3f3-09a733a43f6f"
      },
      "outputs": [],
      "source": [
        "!pip install -q langchain openai chromadb tiktoken"
      ]
    },
    {
      "cell_type": "code",
      "execution_count": 1,
      "metadata": {
        "id": "0X1EX8eRcRCk"
      },
      "outputs": [],
      "source": [
        "from langchain.document_loaders import CSVLoader\n",
        "from langchain.indexes import VectorstoreIndexCreator\n",
        "from langchain.chains import RetrievalQA\n",
        "from langchain.llms import OpenAI\n",
        "import os"
      ]
    },
    {
      "cell_type": "markdown",
      "metadata": {
        "id": "aJOrUeJedzMF"
      },
      "source": [
        "Get your OpenAI Key from here - https://platform.openai.com/account/api-keys"
      ]
    },
    {
      "cell_type": "code",
      "execution_count": 2,
      "metadata": {
        "id": "Zmk3KQMqZvsO"
      },
      "outputs": [],
      "source": [
        "from apikey import OPENAIKEY\n",
        "os.environ[\"OPENAI_API_KEY\"] = OPENAIKEY"
      ]
    },
    {
      "cell_type": "code",
      "execution_count": 3,
      "metadata": {
        "colab": {
          "base_uri": "https://localhost:8080/"
        },
        "id": "odUgyhg_c4Co",
        "outputId": "6f74b7ff-edb6-44da-82a1-8a8b07e1f811"
      },
      "outputs": [],
      "source": [
        "# Download the pokemon csv\n",
        "#!wget https://gist.githubusercontent.com/armgilles/194bcff35001e7eb53a2a8b441e8b2c6/raw/92200bc0a673d5ce2110aaad4544ed6c4010f687/pokemon.csv "
      ]
    },
    {
      "cell_type": "code",
      "execution_count": 4,
      "metadata": {
        "id": "TR8dXxxHbY_b"
      },
      "outputs": [],
      "source": [
        "# Load the documents\n",
        "loader = CSVLoader(file_path='pokemon.csv')"
      ]
    },
    {
      "cell_type": "code",
      "execution_count": 5,
      "metadata": {
        "colab": {
          "base_uri": "https://localhost:8080/"
        },
        "id": "3P4s3IKXaar8",
        "outputId": "602eedc3-7adb-4871-c685-c77c43544058"
      },
      "outputs": [],
      "source": [
        "# Create an index using the loaded documents\n",
        "index_creator = VectorstoreIndexCreator()\n",
        "docsearch = index_creator.from_loaders([loader])"
      ]
    },
    {
      "cell_type": "code",
      "execution_count": 6,
      "metadata": {
        "id": "-vruq68YZnmL"
      },
      "outputs": [],
      "source": [
        "# Create a question-answering chain using the index\n",
        "chain = RetrievalQA.from_chain_type(llm=OpenAI(), chain_type=\"stuff\", retriever=docsearch.vectorstore.as_retriever(), input_key=\"question\")"
      ]
    },
    {
      "cell_type": "code",
      "execution_count": 58,
      "metadata": {
        "id": "Jwy7gjr0aXBr"
      },
      "outputs": [],
      "source": [
        "# Pass a query to the chain\n",
        "query = \"Create a list with all pokemons with an hp higher than 70 and lower than 80\"\n",
        "response = chain({\"question\": query})"
      ]
    },
    {
      "cell_type": "code",
      "execution_count": 59,
      "metadata": {
        "colab": {
          "base_uri": "https://localhost:8080/"
        },
        "id": "9D8ajM74eC_c",
        "outputId": "22175dff-7b62-495e-8d98-9928095e5778"
      },
      "outputs": [
        {
          "name": "stdout",
          "output_type": "stream",
          "text": [
            " Lopunny, Crobat, Grimer\n"
          ]
        }
      ],
      "source": [
        "print(response['result'])"
      ]
    },
    {
      "cell_type": "code",
      "execution_count": null,
      "metadata": {},
      "outputs": [],
      "source": []
    }
  ],
  "metadata": {
    "colab": {
      "provenance": []
    },
    "kernelspec": {
      "display_name": "Python 3",
      "name": "python3"
    },
    "language_info": {
      "codemirror_mode": {
        "name": "ipython",
        "version": 3
      },
      "file_extension": ".py",
      "mimetype": "text/x-python",
      "name": "python",
      "nbconvert_exporter": "python",
      "pygments_lexer": "ipython3",
      "version": "3.11.4"
    }
  },
  "nbformat": 4,
  "nbformat_minor": 0
}
